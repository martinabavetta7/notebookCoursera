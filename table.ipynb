{
 "cells": [
  {
   "cell_type": "markdown",
   "id": "38d46e89-8983-4ed9-a01e-23c33e9b34c0",
   "metadata": {},
   "source": [
    "|Tool | Description |\n",
    "|:----|------------:|\n",
    "|Jupyter Notebook|interactie and dynamic coding|\n",
    "|RStudio|statistical computing|\n",
    "|Apache Spark| big data computing|"
   ]
  },
  {
   "cell_type": "code",
   "execution_count": null,
   "id": "a2a2f4ee-bfc9-46e8-b932-b714e305f294",
   "metadata": {},
   "outputs": [],
   "source": []
  }
 ],
 "metadata": {
  "kernelspec": {
   "display_name": "Python 3 (ipykernel)",
   "language": "python",
   "name": "python3"
  },
  "language_info": {
   "codemirror_mode": {
    "name": "ipython",
    "version": 3
   },
   "file_extension": ".py",
   "mimetype": "text/x-python",
   "name": "python",
   "nbconvert_exporter": "python",
   "pygments_lexer": "ipython3",
   "version": "3.11.9"
  }
 },
 "nbformat": 4,
 "nbformat_minor": 5
}
