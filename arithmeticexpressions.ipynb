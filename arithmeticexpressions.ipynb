{
 "cells": [
  {
   "cell_type": "markdown",
   "id": "dd749cfc-0c24-4436-af9a-198ed5f81cb4",
   "metadata": {},
   "source": [
    "# Arithmetic expression examples are sum (addition), subtraction, multiplication and division"
   ]
  },
  {
   "cell_type": "code",
   "execution_count": null,
   "id": "ddbbae5f-35ae-4895-a700-ff434b1284ac",
   "metadata": {},
   "outputs": [],
   "source": []
  }
 ],
 "metadata": {
  "kernelspec": {
   "display_name": "Python 3 (ipykernel)",
   "language": "python",
   "name": "python3"
  },
  "language_info": {
   "codemirror_mode": {
    "name": "ipython",
    "version": 3
   },
   "file_extension": ".py",
   "mimetype": "text/x-python",
   "name": "python",
   "nbconvert_exporter": "python",
   "pygments_lexer": "ipython3",
   "version": "3.11.9"
  }
 },
 "nbformat": 4,
 "nbformat_minor": 5
}
