{
 "cells": [
  {
   "cell_type": "markdown",
   "id": "fe3c3bcb-7116-4dc6-9c4f-51980fbd6e72",
   "metadata": {},
   "source": [
    "# For a successfull data scientist, the most important objectives to start a brilliant carreer are the following: learning data science tools, learning to program and code and having a g"
   ]
  }
 ],
 "metadata": {
  "kernelspec": {
   "display_name": "Python 3 (ipykernel)",
   "language": "python",
   "name": "python3"
  },
  "language_info": {
   "codemirror_mode": {
    "name": "ipython",
    "version": 3
   },
   "file_extension": ".py",
   "mimetype": "text/x-python",
   "name": "python",
   "nbconvert_exporter": "python",
   "pygments_lexer": "ipython3",
   "version": "3.11.9"
  }
 },
 "nbformat": 4,
 "nbformat_minor": 5
}
