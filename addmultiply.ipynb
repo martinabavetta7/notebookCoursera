{
 "cells": [
  {
   "cell_type": "code",
   "execution_count": 4,
   "id": "04edb9e4-bed7-4fb8-8019-77d63c278b3f",
   "metadata": {},
   "outputs": [
    {
     "data": {
      "text/plain": [
       "10"
      ]
     },
     "execution_count": 4,
     "metadata": {},
     "output_type": "execute_result"
    }
   ],
   "source": [
    "sum=(6+4)\n",
    "sum "
   ]
  },
  {
   "cell_type": "code",
   "execution_count": null,
   "id": "002e6a7b-db1e-40e2-abce-a34e06c50037",
   "metadata": {},
   "outputs": [],
   "source": [
    "mult=(5*3)%"
   ]
  }
 ],
 "metadata": {
  "kernelspec": {
   "display_name": "Python 3 (ipykernel)",
   "language": "python",
   "name": "python3"
  },
  "language_info": {
   "codemirror_mode": {
    "name": "ipython",
    "version": 3
   },
   "file_extension": ".py",
   "mimetype": "text/x-python",
   "name": "python",
   "nbconvert_exporter": "python",
   "pygments_lexer": "ipython3",
   "version": "3.11.9"
  }
 },
 "nbformat": 4,
 "nbformat_minor": 5
}
